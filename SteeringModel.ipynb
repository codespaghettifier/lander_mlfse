{
 "cells": [
  {
   "cell_type": "code",
   "execution_count": 33,
   "metadata": {},
   "outputs": [],
   "source": [
    "import torch\n",
    "import json\n",
    "import math\n",
    "\n",
    "from Simulation import Simulation"
   ]
  },
  {
   "cell_type": "code",
   "execution_count": 34,
   "metadata": {},
   "outputs": [
    {
     "name": "stdout",
     "output_type": "stream",
     "text": [
      "Using device: cuda\n"
     ]
    }
   ],
   "source": [
    "device = torch.device(\"cuda\" if torch.cuda.is_available() else \"cpu\")\n",
    "print(f\"Using device: {device}\")"
   ]
  },
  {
   "cell_type": "code",
   "execution_count": 35,
   "metadata": {},
   "outputs": [],
   "source": [
    "class LanderSteeringModel(torch.nn.Module):\n",
    "    def __init__(self, device):\n",
    "        super(LanderSteeringModel, self).__init__()\n",
    "        self.device = device\n",
    "\n",
    "        self.fc1 = torch.nn.Linear(13, 64)\n",
    "        self.fc2 = torch.nn.Linear(64, 128)\n",
    "        self.fc3 = torch.nn.Linear(128, 64)\n",
    "        self.fc4 = torch.nn.Linear(64, 7)\n",
    "\n",
    "\n",
    "    def forward(self, telemetry):\n",
    "        x = [\n",
    "            telemetry['position'][0],\n",
    "            telemetry['position'][1],\n",
    "            telemetry['angle'],\n",
    "            telemetry['catch_pin_position'][0],\n",
    "            telemetry['catch_pin_position'][1],\n",
    "            telemetry['velocity'][0],\n",
    "            telemetry['velocity'][1],\n",
    "            telemetry['angular_velocity'],\n",
    "            telemetry['mass'],\n",
    "            telemetry['dry_mass'],\n",
    "            telemetry['propellant_mass'],\n",
    "            telemetry['propellant_capacity'],\n",
    "            telemetry['moment']\n",
    "        ]\n",
    "        x = torch.tensor(x, dtype=torch.float32).to(self.device)\n",
    "\n",
    "        x = torch.nn.functional.relu(self.fc1(x))\n",
    "        x = torch.nn.functional.relu(self.fc2(x))\n",
    "        x = torch.nn.functional.relu(self.fc3(x))\n",
    "        x = self.fc4(x)\n",
    "\n",
    "        y = torch.sigmoid(x)\n",
    "        y = y.cpu().detach()\n",
    "\n",
    "        steering_input = {\n",
    "            \"engine1\": y[0].item(),\n",
    "            \"engine2\": y[1].item(),\n",
    "            \"engine3\": y[2].item(),\n",
    "            \"engine4\": y[3].item(),\n",
    "            \"engine5\": y[4].item(),\n",
    "            \"rcsLeft\": y[5].item(),\n",
    "            \"rcsRight\": y[6].item()\n",
    "        }\n",
    "        return steering_input"
   ]
  },
  {
   "cell_type": "code",
   "execution_count": 36,
   "metadata": {},
   "outputs": [],
   "source": [
    "def load_settings():\n",
    "    with open(\"settings.json\") as file:\n",
    "        settings = json.load(file)\n",
    "    return settings"
   ]
  },
  {
   "cell_type": "code",
   "execution_count": 37,
   "metadata": {},
   "outputs": [],
   "source": [
    "settings = load_settings()\n",
    "tower_arm_settings = settings[\"terrain\"][\"tower\"][\"towerArm\"]\n",
    "target_catch_pin_position_x = tower_arm_settings[\"xMax\"] - tower_arm_settings[\"xMin\"]\n",
    "target_catch_pin_position_y = tower_arm_settings[\"yMax\"] + settings[\"lander\"][\"catchPin\"][\"radius\"]\n",
    "target_catch_pin_position = (target_catch_pin_position_x, target_catch_pin_position_y)\n",
    "target_angle = 0\n",
    "target_velocity = (0, 0)\n",
    "target_angular_velocity = 0\n",
    "\n",
    "def loss_function(telemetry):\n",
    "    catch_pin_position = telemetry['catch_pin_position']\n",
    "    angle = telemetry['angle']\n",
    "    velocity = telemetry['velocity']\n",
    "    angular_velocity = telemetry['angular_velocity']\n",
    "\n",
    "    position_loss = math.log(1 + math.sqrt((catch_pin_position[0] - target_catch_pin_position[0])**2 + (catch_pin_position[1] - target_catch_pin_position[1])**2))\n",
    "    angle_loss = abs(angle - target_angle)\n",
    "    velocity_loss = math.log(1 + math.sqrt((velocity[0] - target_velocity[0])**2 + (velocity[1] - target_velocity[1])**2))\n",
    "    angular_velocity_loss = abs(angular_velocity - target_angular_velocity)\n",
    "\n",
    "    # loss = position_loss + angle_loss + velocity_loss + angular_velocity_loss\n",
    "    loss = position_loss\n",
    "    return torch.tensor(loss, dtype=torch.float32)"
   ]
  },
  {
   "cell_type": "code",
   "execution_count": 38,
   "metadata": {},
   "outputs": [],
   "source": [
    "def to_binary_steering(steeering_input):\n",
    "    binary_steering = {}\n",
    "    for key, value in steeering_input.items():\n",
    "        binary_steering[key] = value > 0.5\n",
    "    return binary_steering"
   ]
  },
  {
   "cell_type": "code",
   "execution_count": 52,
   "metadata": {},
   "outputs": [
    {
     "name": "stdout",
     "output_type": "stream",
     "text": [
      "[tensor(1.9959), tensor(2.7991), tensor(3.1586), tensor(3.3949), tensor(3.5236), tensor(3.7666), tensor(3.8452), tensor(4.0575), tensor(4.4305), tensor(4.4569), tensor(4.4695), tensor(4.5992), tensor(4.6935), tensor(4.6986), tensor(5.0166), tensor(5.0404), tensor(5.0886), tensor(5.1243), tensor(5.1450), tensor(5.1716), tensor(5.2158), tensor(5.2226), tensor(5.3472), tensor(5.3672), tensor(5.4855), tensor(5.4905), tensor(5.4912), tensor(5.5094), tensor(5.5169), tensor(5.5796), tensor(5.5810), tensor(5.5841), tensor(5.6010), tensor(5.6584), tensor(5.6639), tensor(5.6666), tensor(5.6727), tensor(5.6787), tensor(5.6923), tensor(5.7133), tensor(5.7283), tensor(5.7579), tensor(5.7636), tensor(5.8039), tensor(5.8054), tensor(5.8398), tensor(5.8432), tensor(5.8448), tensor(5.8495), tensor(5.8505), tensor(5.8596), tensor(5.8689), tensor(5.8794), tensor(5.8898), tensor(5.9229), tensor(5.9425), tensor(5.9541), tensor(5.9637), tensor(5.9687), tensor(5.9808), tensor(6.0139), tensor(6.0225), tensor(6.0277), tensor(6.0404), tensor(6.0594), tensor(6.0714), tensor(6.1020), tensor(6.1140), tensor(6.1148), tensor(6.1232), tensor(6.1598), tensor(6.1747), tensor(6.1852), tensor(6.2077), tensor(6.2239), tensor(6.2461), tensor(6.2736), tensor(6.2988), tensor(6.3290), tensor(6.3326), tensor(6.5173), tensor(6.5196), tensor(6.5316), tensor(6.5388), tensor(6.5399), tensor(6.5549), tensor(6.5677), tensor(6.5777), tensor(6.6169), tensor(6.6243), tensor(6.6257), tensor(6.7606), tensor(6.9004), tensor(6.9494), tensor(6.9537), tensor(6.9555), tensor(7.0248), tensor(7.1462), tensor(7.1538), tensor(7.4353)]\n",
      "Epoch [1/100], Loss: 1.9959"
     ]
    },
    {
     "ename": "KeyboardInterrupt",
     "evalue": "",
     "output_type": "error",
     "traceback": [
      "\u001b[0;31m---------------------------------------------------------------------------\u001b[0m",
      "\u001b[0;31mKeyboardInterrupt\u001b[0m                         Traceback (most recent call last)",
      "Cell \u001b[0;32mIn[52], line 59\u001b[0m\n\u001b[1;32m     55\u001b[0m         param\u001b[38;5;241m.\u001b[39mdata \u001b[38;5;241m=\u001b[39m torch\u001b[38;5;241m.\u001b[39mrandn(param\u001b[38;5;241m.\u001b[39msize(), device\u001b[38;5;241m=\u001b[39mdevice)\n\u001b[1;32m     57\u001b[0m \u001b[38;5;28;01mfor\u001b[39;00m epoch \u001b[38;5;129;01min\u001b[39;00m \u001b[38;5;28mrange\u001b[39m(num_epochs):\n\u001b[0;32m---> 59\u001b[0m     polulation_losses \u001b[38;5;241m=\u001b[39m [evaluate_model(model, simulation, simulation_steps_per_second) \u001b[38;5;28;01mfor\u001b[39;00m model \u001b[38;5;129;01min\u001b[39;00m population]\n\u001b[1;32m     60\u001b[0m     \u001b[38;5;66;03m# Sort population by loss\u001b[39;00m\n\u001b[1;32m     61\u001b[0m     population \u001b[38;5;241m=\u001b[39m [model \u001b[38;5;28;01mfor\u001b[39;00m _, model \u001b[38;5;129;01min\u001b[39;00m \u001b[38;5;28msorted\u001b[39m(\u001b[38;5;28mzip\u001b[39m(polulation_losses, population), key\u001b[38;5;241m=\u001b[39m\u001b[38;5;28;01mlambda\u001b[39;00m pair: pair[\u001b[38;5;241m0\u001b[39m])]\n",
      "Cell \u001b[0;32mIn[52], line 59\u001b[0m, in \u001b[0;36m<listcomp>\u001b[0;34m(.0)\u001b[0m\n\u001b[1;32m     55\u001b[0m         param\u001b[38;5;241m.\u001b[39mdata \u001b[38;5;241m=\u001b[39m torch\u001b[38;5;241m.\u001b[39mrandn(param\u001b[38;5;241m.\u001b[39msize(), device\u001b[38;5;241m=\u001b[39mdevice)\n\u001b[1;32m     57\u001b[0m \u001b[38;5;28;01mfor\u001b[39;00m epoch \u001b[38;5;129;01min\u001b[39;00m \u001b[38;5;28mrange\u001b[39m(num_epochs):\n\u001b[0;32m---> 59\u001b[0m     polulation_losses \u001b[38;5;241m=\u001b[39m [\u001b[43mevaluate_model\u001b[49m\u001b[43m(\u001b[49m\u001b[43mmodel\u001b[49m\u001b[43m,\u001b[49m\u001b[43m \u001b[49m\u001b[43msimulation\u001b[49m\u001b[43m,\u001b[49m\u001b[43m \u001b[49m\u001b[43msimulation_steps_per_second\u001b[49m\u001b[43m)\u001b[49m \u001b[38;5;28;01mfor\u001b[39;00m model \u001b[38;5;129;01min\u001b[39;00m population]\n\u001b[1;32m     60\u001b[0m     \u001b[38;5;66;03m# Sort population by loss\u001b[39;00m\n\u001b[1;32m     61\u001b[0m     population \u001b[38;5;241m=\u001b[39m [model \u001b[38;5;28;01mfor\u001b[39;00m _, model \u001b[38;5;129;01min\u001b[39;00m \u001b[38;5;28msorted\u001b[39m(\u001b[38;5;28mzip\u001b[39m(polulation_losses, population), key\u001b[38;5;241m=\u001b[39m\u001b[38;5;28;01mlambda\u001b[39;00m pair: pair[\u001b[38;5;241m0\u001b[39m])]\n",
      "Cell \u001b[0;32mIn[52], line 15\u001b[0m, in \u001b[0;36mevaluate_model\u001b[0;34m(model, simulation, simulation_steps_per_second)\u001b[0m\n\u001b[1;32m     12\u001b[0m step_count \u001b[38;5;241m+\u001b[39m\u001b[38;5;241m=\u001b[39m \u001b[38;5;241m1\u001b[39m\n\u001b[1;32m     13\u001b[0m result, telemetry \u001b[38;5;241m=\u001b[39m simulation\u001b[38;5;241m.\u001b[39mstep(\u001b[38;5;241m1\u001b[39m \u001b[38;5;241m/\u001b[39m simulation_steps_per_second)\n\u001b[0;32m---> 15\u001b[0m steering_input \u001b[38;5;241m=\u001b[39m \u001b[43mmodel\u001b[49m\u001b[43m(\u001b[49m\u001b[43mtelemetry\u001b[49m\u001b[43m)\u001b[49m\n\u001b[1;32m     16\u001b[0m binary_steering \u001b[38;5;241m=\u001b[39m to_binary_steering(steering_input)\n\u001b[1;32m     17\u001b[0m simulation\u001b[38;5;241m.\u001b[39mset_steering_input(binary_steering)\n",
      "File \u001b[0;32m~/.local/lib/python3.10/site-packages/torch/nn/modules/module.py:1518\u001b[0m, in \u001b[0;36mModule._wrapped_call_impl\u001b[0;34m(self, *args, **kwargs)\u001b[0m\n\u001b[1;32m   1516\u001b[0m     \u001b[38;5;28;01mreturn\u001b[39;00m \u001b[38;5;28mself\u001b[39m\u001b[38;5;241m.\u001b[39m_compiled_call_impl(\u001b[38;5;241m*\u001b[39margs, \u001b[38;5;241m*\u001b[39m\u001b[38;5;241m*\u001b[39mkwargs)  \u001b[38;5;66;03m# type: ignore[misc]\u001b[39;00m\n\u001b[1;32m   1517\u001b[0m \u001b[38;5;28;01melse\u001b[39;00m:\n\u001b[0;32m-> 1518\u001b[0m     \u001b[38;5;28;01mreturn\u001b[39;00m \u001b[38;5;28;43mself\u001b[39;49m\u001b[38;5;241;43m.\u001b[39;49m\u001b[43m_call_impl\u001b[49m\u001b[43m(\u001b[49m\u001b[38;5;241;43m*\u001b[39;49m\u001b[43margs\u001b[49m\u001b[43m,\u001b[49m\u001b[43m \u001b[49m\u001b[38;5;241;43m*\u001b[39;49m\u001b[38;5;241;43m*\u001b[39;49m\u001b[43mkwargs\u001b[49m\u001b[43m)\u001b[49m\n",
      "File \u001b[0;32m~/.local/lib/python3.10/site-packages/torch/nn/modules/module.py:1527\u001b[0m, in \u001b[0;36mModule._call_impl\u001b[0;34m(self, *args, **kwargs)\u001b[0m\n\u001b[1;32m   1522\u001b[0m \u001b[38;5;66;03m# If we don't have any hooks, we want to skip the rest of the logic in\u001b[39;00m\n\u001b[1;32m   1523\u001b[0m \u001b[38;5;66;03m# this function, and just call forward.\u001b[39;00m\n\u001b[1;32m   1524\u001b[0m \u001b[38;5;28;01mif\u001b[39;00m \u001b[38;5;129;01mnot\u001b[39;00m (\u001b[38;5;28mself\u001b[39m\u001b[38;5;241m.\u001b[39m_backward_hooks \u001b[38;5;129;01mor\u001b[39;00m \u001b[38;5;28mself\u001b[39m\u001b[38;5;241m.\u001b[39m_backward_pre_hooks \u001b[38;5;129;01mor\u001b[39;00m \u001b[38;5;28mself\u001b[39m\u001b[38;5;241m.\u001b[39m_forward_hooks \u001b[38;5;129;01mor\u001b[39;00m \u001b[38;5;28mself\u001b[39m\u001b[38;5;241m.\u001b[39m_forward_pre_hooks\n\u001b[1;32m   1525\u001b[0m         \u001b[38;5;129;01mor\u001b[39;00m _global_backward_pre_hooks \u001b[38;5;129;01mor\u001b[39;00m _global_backward_hooks\n\u001b[1;32m   1526\u001b[0m         \u001b[38;5;129;01mor\u001b[39;00m _global_forward_hooks \u001b[38;5;129;01mor\u001b[39;00m _global_forward_pre_hooks):\n\u001b[0;32m-> 1527\u001b[0m     \u001b[38;5;28;01mreturn\u001b[39;00m \u001b[43mforward_call\u001b[49m\u001b[43m(\u001b[49m\u001b[38;5;241;43m*\u001b[39;49m\u001b[43margs\u001b[49m\u001b[43m,\u001b[49m\u001b[43m \u001b[49m\u001b[38;5;241;43m*\u001b[39;49m\u001b[38;5;241;43m*\u001b[39;49m\u001b[43mkwargs\u001b[49m\u001b[43m)\u001b[49m\n\u001b[1;32m   1529\u001b[0m \u001b[38;5;28;01mtry\u001b[39;00m:\n\u001b[1;32m   1530\u001b[0m     result \u001b[38;5;241m=\u001b[39m \u001b[38;5;28;01mNone\u001b[39;00m\n",
      "Cell \u001b[0;32mIn[35], line 35\u001b[0m, in \u001b[0;36mLanderSteeringModel.forward\u001b[0;34m(self, telemetry)\u001b[0m\n\u001b[1;32m     32\u001b[0m x \u001b[38;5;241m=\u001b[39m torch\u001b[38;5;241m.\u001b[39mnn\u001b[38;5;241m.\u001b[39mfunctional\u001b[38;5;241m.\u001b[39mrelu(\u001b[38;5;28mself\u001b[39m\u001b[38;5;241m.\u001b[39mfc3(x))\n\u001b[1;32m     33\u001b[0m x \u001b[38;5;241m=\u001b[39m \u001b[38;5;28mself\u001b[39m\u001b[38;5;241m.\u001b[39mfc4(x)\n\u001b[0;32m---> 35\u001b[0m y \u001b[38;5;241m=\u001b[39m \u001b[43mtorch\u001b[49m\u001b[38;5;241;43m.\u001b[39;49m\u001b[43msigmoid\u001b[49m\u001b[43m(\u001b[49m\u001b[43mx\u001b[49m\u001b[43m)\u001b[49m\n\u001b[1;32m     36\u001b[0m y \u001b[38;5;241m=\u001b[39m y\u001b[38;5;241m.\u001b[39mcpu()\u001b[38;5;241m.\u001b[39mdetach()\n\u001b[1;32m     38\u001b[0m steering_input \u001b[38;5;241m=\u001b[39m {\n\u001b[1;32m     39\u001b[0m     \u001b[38;5;124m\"\u001b[39m\u001b[38;5;124mengine1\u001b[39m\u001b[38;5;124m\"\u001b[39m: y[\u001b[38;5;241m0\u001b[39m]\u001b[38;5;241m.\u001b[39mitem(),\n\u001b[1;32m     40\u001b[0m     \u001b[38;5;124m\"\u001b[39m\u001b[38;5;124mengine2\u001b[39m\u001b[38;5;124m\"\u001b[39m: y[\u001b[38;5;241m1\u001b[39m]\u001b[38;5;241m.\u001b[39mitem(),\n\u001b[0;32m   (...)\u001b[0m\n\u001b[1;32m     45\u001b[0m     \u001b[38;5;124m\"\u001b[39m\u001b[38;5;124mrcsRight\u001b[39m\u001b[38;5;124m\"\u001b[39m: y[\u001b[38;5;241m6\u001b[39m]\u001b[38;5;241m.\u001b[39mitem()\n\u001b[1;32m     46\u001b[0m }\n",
      "\u001b[0;31mKeyboardInterrupt\u001b[0m: "
     ]
    }
   ],
   "source": [
    "lander_initial_position = settings[\"landerInitialPosition\"][\"x\"], settings[\"landerInitialPosition\"][\"y\"]\n",
    "simulation_iterations_per_step = settings[\"simulationIterationsPerStep\"]\n",
    "simulation_steps_per_second = settings[\"simulationStepsPerSecond\"]\n",
    "simulation = Simulation(settings, lander_initial_position, simulation_iterations_per_step)\n",
    "\n",
    "def evaluate_model(model, simulation, simulation_steps_per_second):\n",
    "    simulation.reset()\n",
    "    running = True\n",
    "    step_count = 0\n",
    "    max_steps = 10 * simulation_steps_per_second\n",
    "    while running:\n",
    "        step_count += 1\n",
    "        result, telemetry = simulation.step(1 / simulation_steps_per_second)\n",
    "\n",
    "        steering_input = model(telemetry)\n",
    "        binary_steering = to_binary_steering(steering_input)\n",
    "        simulation.set_steering_input(binary_steering)\n",
    "\n",
    "        if result is not None or step_count > max_steps:\n",
    "            running = False\n",
    "\n",
    "    loss = loss_function(telemetry)\n",
    "    return loss\n",
    "\n",
    "def select_best_models(population, population_losses):\n",
    "    # Select the best 50% of the population, based on loss\n",
    "    # Select using probability based on loss\n",
    "    population_size = len(population)\n",
    "    selection_size = population_size // 2\n",
    "    selected_population = []\n",
    "    indexes = [i for i in range(population_size)]\n",
    "    for i in range(selection_size):\n",
    "        num_indexes = len(indexes)\n",
    "        index = torch.multinomial(torch.tensor([(num_indexes - i - 1) / num_indexes for i in range(num_indexes)], dtype=torch.float32), 1).item()\n",
    "        index = indexes.pop(index)\n",
    "        selected_population.append(population[index])\n",
    "    return selected_population\n",
    "\n",
    "def crossover(parent1, parent2):\n",
    "    child = LanderSteeringModel(parent1.device).to(device)\n",
    "    for child_param, parent1_param, parent2_param in zip(child.parameters(), parent1.parameters(), parent2.parameters()):\n",
    "        child_param.data = (parent1_param.data + parent2_param.data) / 2\n",
    "    return child\n",
    "\n",
    "def mutate(model, mutation_rate):\n",
    "    for param in model.parameters():\n",
    "        param.data += torch.randn(param.size(), device=device) * mutation_rate\n",
    "    return model\n",
    "\n",
    "num_epochs = 100\n",
    "population_size = 100\n",
    "population = [LanderSteeringModel(device) for _ in range(population_size)]\n",
    "for i in range(population_size):\n",
    "    for param in population[i].parameters():\n",
    "        param.data = torch.randn(param.size(), device=device)\n",
    "\n",
    "for epoch in range(num_epochs):\n",
    "    \n",
    "    polulation_losses = [evaluate_model(model, simulation, simulation_steps_per_second) for model in population]\n",
    "    # Sort population by loss\n",
    "    population = [model for _, model in sorted(zip(polulation_losses, population), key=lambda pair: pair[0])]\n",
    "    polulation_losses = sorted(polulation_losses)\n",
    "    print(polulation_losses)\n",
    "\n",
    "    best_model = population[0]\n",
    "\n",
    "    print(f\"\\rEpoch [{epoch + 1}/{num_epochs}], Loss: {polulation_losses[0].item():.4f}\", end=\"\")\n",
    "    if (epoch + 1) % 100 == 0:\n",
    "        print()\n",
    "\n",
    "    # Select the best 50% of the population\n",
    "    selected_population = select_best_models(population, polulation_losses)\n",
    "\n",
    "    # Crossover randomly selected models\n",
    "    new_population = []\n",
    "    for _ in range(2):\n",
    "        # shuffle the selected population\n",
    "        selected_population = [selected_population[i] for i in torch.randperm(len(selected_population))]\n",
    "        for i in range(len(selected_population)):\n",
    "            parent1 = selected_population[i]\n",
    "            parent2 = selected_population[(i + 1) % len(selected_population)]\n",
    "            child = crossover(parent1, parent2)\n",
    "            new_population.append(child)\n",
    "\n",
    "    # Mutate the new population\n",
    "    mutation_rate = 0.1\n",
    "    new_population = [mutate(model, mutation_rate) for model in new_population]\n",
    "    population = new_population\n",
    "    \n",
    "\n",
    "\n",
    "# save the best model\n",
    "torch.save(best_model.state_dict(), \"model.pth\")\n"
   ]
  },
  {
   "cell_type": "code",
   "execution_count": 51,
   "metadata": {},
   "outputs": [],
   "source": [
    "torch.save(best_model.state_dict(), \"model.pth\")\n"
   ]
  }
 ],
 "metadata": {
  "kernelspec": {
   "display_name": "Python 3",
   "language": "python",
   "name": "python3"
  },
  "language_info": {
   "codemirror_mode": {
    "name": "ipython",
    "version": 3
   },
   "file_extension": ".py",
   "mimetype": "text/x-python",
   "name": "python",
   "nbconvert_exporter": "python",
   "pygments_lexer": "ipython3",
   "version": "3.10.12"
  }
 },
 "nbformat": 4,
 "nbformat_minor": 2
}
